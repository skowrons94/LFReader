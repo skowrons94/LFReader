{
 "cells": [
  {
   "cell_type": "code",
   "execution_count": null,
   "metadata": {},
   "outputs": [],
   "source": [
    "import os\n",
    "import shlex\n",
    "import subprocess"
   ]
  },
  {
   "cell_type": "code",
   "execution_count": null,
   "metadata": {},
   "outputs": [],
   "source": [
    "# Input and output paths\n",
    "INPUT_PATH = \"/data/LunaDAQ/CeBr/data/run_3/\"\n",
    "OUTPUT_PATH = \"/data/root/\"\n",
    "\n",
    "# Digitizers configuration ( BOARD_ID: N_CHANNELS   )\n",
    "digitizers = { 0: 4 }"
   ]
  },
  {
   "cell_type": "code",
   "execution_count": null,
   "metadata": {},
   "outputs": [],
   "source": [
    "# List of files to be processed\n",
    "in_files = [f for f in os.listdir(INPUT_PATH) if \"lf\" in f]\n",
    "\n",
    "# List output files by detaching the extension\n",
    "out_files = [f.split(\".\")[0] + \".root\" for f in in_files]"
   ]
  },
  {
   "cell_type": "code",
   "execution_count": null,
   "metadata": {},
   "outputs": [],
   "source": [
    "# Create options flag\n",
    "options = \"\"\n",
    "for idx in digitizers.keys(): options += \" -d \" + str(idx) + \" \" + str(digitizers[idx])"
   ]
  },
  {
   "cell_type": "code",
   "execution_count": null,
   "metadata": {},
   "outputs": [],
   "source": [
    "# Converting the data\n",
    "for input, output in zip(in_files, out_files):\n",
    "    cmd = \"LFReader -i \" + INPUT_PATH + input + \" -o \" + OUTPUT_PATH + output + options\n",
    "    _ = subprocess.check_output(shlex.split(cmd))"
   ]
  }
 ],
 "metadata": {
  "kernelspec": {
   "display_name": "Python 3",
   "language": "python",
   "name": "python3"
  },
  "language_info": {
   "codemirror_mode": {
    "name": "ipython",
    "version": 3
   },
   "file_extension": ".py",
   "mimetype": "text/x-python",
   "name": "python",
   "nbconvert_exporter": "python",
   "pygments_lexer": "ipython3",
   "version": "3.6.8"
  }
 },
 "nbformat": 4,
 "nbformat_minor": 2
}
